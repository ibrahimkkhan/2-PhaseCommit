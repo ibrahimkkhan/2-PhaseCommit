{
 "cells": [
  {
   "cell_type": "markdown",
   "metadata": {},
   "source": [
    "# 2-Phase Commit"
   ]
  },
  {
   "cell_type": "markdown",
   "metadata": {},
   "source": [
    " <img src=\"../Desktop/2PC.png\" width= \"70%\" >"
   ]
  },
  {
   "cell_type": "markdown",
   "metadata": {},
   "source": [
    "## 2.1 Overview\n",
    "\n",
    "A **transaction** can be defined as a very small unit or task of a program which cannot be further divided in to smaller sub-tasks. A transaction must maintain Atomicity, Consistency, Isolation, and Durability − commonly known as **ACID** properties − in order to ensure accuracy, completeness, and data integrity. **Distributed transactions** are transactions in which two or more network hosts are involved. We will refer to these hosts as *COHORTS*.\n",
    "\n",
    "The **Two-phase commit protocol (2PC)** is a distributed algorithm that coordinates all the *COHORTS* that participate in a distributed transaction on whether to **commit** or **abort** the transaction. The protocol is fault-tolerant i.e, the protocol achieves its goal even in cases of temporary system failure. We will begin by giving an informal definition of the service. "
   ]
  },
  {
   "cell_type": "markdown",
   "metadata": {},
   "source": [
    "## 2.2 Intended Service Informally Stated"
   ]
  },
  {
   "cell_type": "markdown",
   "metadata": {},
   "source": [
    "The read-write-lock service has four functions that can be called by local users in the environment. The three functions are as follows:"
   ]
  },
  {
   "cell_type": "markdown",
   "metadata": {},
   "source": [
    "* ``put(key, value)``: creates or updates a key-value pair in the store \n",
    "  * can only be called if ``start_process()`` returns ``COMMIT``\n",
    "  * returns ``COMMIT`` or ``ABORT``\n",
    "\n",
    "\n",
    "* ``get(key):`` returns the value for the given key in the store\n",
    "  * returns ``(value, COMMIT)`` or ``ABORT`` on completion\n",
    "  \n",
    "  \n",
    "* ``delete(key)``: deletes the key-value pair in the store\n",
    "  * returns `COMMIT` or `ABORT`\n",
    "  "
   ]
  },
  {
   "cell_type": "markdown",
   "metadata": {},
   "source": [
    "## 2.3 Implementation `Imp_0`\n"
   ]
  },
  {
   "cell_type": "markdown",
   "metadata": {},
   "source": [
    "Here class `Imp_0` that implements the 2PC service will be discussed. Here we assume the availability of a **failure-free store**.\n",
    "\n",
    "*class* Imp_0\n",
    "It has three functions: `put(key, value)`, `get(key)`, and `delete(key)`. The class maintains the following variables:\n",
    "* `db_lock` (lock): lock that protects the database\n",
    "* `store` (map): Store that holds the key-value pairs\n",
    "\n",
    "\n"
   ]
  },
  {
   "cell_type": "code",
   "execution_count": 6,
   "metadata": {},
   "outputs": [],
   "source": [
    "from threading import Lock\n",
    "\n",
    "class Imp:\n",
    "    \n",
    "    def __init__(self):\n",
    "        self.store = dict()\n",
    "        self.db_lock = Lock()\n",
    "\n",
    "    def put(self, key, val):\n",
    "        self.db_lock.acquire()\n",
    "        self.store[key] = val\n",
    "        print(\"put call\", key)\n",
    "        self.db_lock.release()\n",
    "        \n",
    "    def get(self,key):\n",
    "        self.db_lock.acquire()\n",
    "        try:\n",
    "            rval = self.store[key]            \n",
    "        except:\n",
    "            rval = \"ABORT\"\n",
    "            print(key, \" was not found\")\n",
    "        self.db_lock.release()\n",
    "        return rval\n",
    "    \n",
    "    def delete(self,key):\n",
    "        self.db_lock.acquire()\n",
    "        print(\"delete call\", key)\n",
    "        try:\n",
    "            self.store.pop(key)\n",
    "        except:\n",
    "            print(key, \" was not found\")\n",
    "        self.db_lock.release()\n",
    "\n",
    "        \n",
    "        \n",
    "if __name__ == '__main__':\n",
    "    imp = Imp()"
   ]
  },
  {
   "cell_type": "markdown",
   "metadata": {},
   "source": [
    "## 2.4 User Program\n"
   ]
  },
  {
   "cell_type": "markdown",
   "metadata": {},
   "source": [
    "To run `Imp_0` run `python 2PC/user.py -num_threads <num_threads> -op_names <op_names>`\n",
    "- `<num_threads>`: number of user threads making calls\n",
    "- `<op_names>`: names of all the operations where each operartion is seperated by a space. For eg: `\"put(k1,v1) put(k2,v2) delete(k1) get(k1)\"`\n",
    "\n",
    "The program creates the number of threads and begins execution. All the operations are stored in `op_names`. The threads dequeue the first operation in `op_names`, parse it and begin the operation. Any invalid operation returns `Invalid Operation`."
   ]
  },
  {
   "cell_type": "code",
   "execution_count": null,
   "metadata": {},
   "outputs": [],
   "source": [
    "import threading\n",
    "import sys,argparse\n",
    "from Imp_0 import Imp\n",
    "\n",
    "class User():\n",
    "\n",
    "    def __init__(self, argv):\n",
    "        print('starting 2PC.user')\n",
    "        \n",
    "        p = argparse.ArgumentParser(\n",
    "          usage='python 2PC/user.py -num_threads -op_names',\n",
    "          description='create a user to drive the given 2PC implementation')\n",
    "        \n",
    "        p.add_argument(\"-num_threads\", type=int, help='number of user threads', default = 1)\n",
    "        \n",
    "        p.add_argument(\"-op_names\", type=str)\n",
    "\n",
    "        \n",
    "        args = p.parse_args(argv[1:])\n",
    "\n",
    "        print(\"2PC args:\", args)\n",
    "        self.num_threads = args.num_threads\n",
    "        self.op_names = args.op_names\n",
    "        \n",
    "        self.op_names = self.op_names.split(\" \")\n",
    "        \n",
    "        self.user_threads = []\n",
    "        self.imp = Imp()\n",
    "        \n",
    "      \n",
    "        for j in range(self.num_threads):\n",
    "          t = threading.Thread(target=self.perform_ops)\n",
    "          self.user_threads.append(t)\n",
    "          t.start()\n",
    "        \n",
    "        \n",
    "        print(\"Committing...\")\n",
    "        print(\"database after commit =\", self.imp.store) \n",
    "        \n",
    "        \n",
    "       \n",
    "\n",
    "    def perform_ops(self):\n",
    "        tid = threading.current_thread().name\n",
    "        print('starting user thread', tid)\n",
    "        \n",
    "        while(self.op_names):\n",
    "            i = self.op_names.pop(0)\n",
    "            print('i is', i, tid)\n",
    "            s = i.split(\"(\")\n",
    "            \n",
    "            func = s[0]\n",
    "            key = \"key\"\n",
    "            value = \"value\"\n",
    "            \n",
    "            \n",
    "            if(func == \"put\"):\n",
    "                param = s[1].split(\",\")\n",
    "                \n",
    "                key = param[0]\n",
    "                value = param[1].replace(\")\", \"\")\n",
    "                \n",
    "                self.imp.put(key, value)\n",
    "                \n",
    "            elif(func == \"get\"):\n",
    "                key = s[1].replace(\")\", \"\")\n",
    "                self.imp.get(key)\n",
    "\n",
    "            elif(func == \"delete\"):\n",
    "                key = s[1].replace(\")\", \"\")\n",
    "                self.imp.delete(key)\n",
    "\n",
    "            else:\n",
    "                print(\"Invalid Operation\")\n",
    "                   \n",
    "        \n",
    "\n",
    "if __name__ == '__main__':\n",
    "  user = User(sys.argv)\n",
    "  if hasattr(user.imp, '__end__'):\n",
    "    for t in user.user_threads:\n",
    "      t.join()\n",
    "    user.imp.__end__()\n",
    "    "
   ]
  },
  {
   "cell_type": "markdown",
   "metadata": {},
   "source": [
    "\n",
    "\n",
    "**Sample output on `python 2PC/user.py -num_threads 2 -op_names \"put(k1,v1) put(k2,v2) delete(k1) put(k3,v3) delete(k3) get(k1) put(k2,v2) put(k4,v4)\"`:**"
   ]
  },
  {
   "cell_type": "markdown",
   "metadata": {},
   "source": [
    "`starting 2PC.user\n",
    "('2PC args:', Namespace(num_threads=2, op_names='put(k1,v1) put(k2,v2) delete(k1) put(k3,v3) delete(k3) get(k1) put(k2,v2) put(k4,v4)'))\n",
    "('starting user thread', 'Thread-1')\n",
    "('Operation being performed is ', 'put(k1,v1)', 'by ', 'Thread-1')\n",
    "('put call', 'k1')\n",
    "('Operation being performed is ', 'put(k2,v2)', 'by ', 'Thread-1')\n",
    "('put call', 'k2')\n",
    "('Operation being performed is ', 'delete(k1)', 'by ', 'Thread-1')\n",
    "('delete call', 'k1')\n",
    "('Operation being performed is ', 'put(k3,v3)', 'by ', 'Thread-1')\n",
    "('put call', 'k3')\n",
    "('Operation being performed is ', 'delete(k3)', 'by ', 'Thread-1')\n",
    "('delete call', 'k3')\n",
    "('Operation being performed is ', 'get(k1)', 'by ', 'Thread-1')\n",
    "('k1', ' was not found')\n",
    "('Operation being performed is ', 'put(k2,v2)', 'by ', 'Thread-1')\n",
    "('put call', 'k2')\n",
    "('Operation being performed is ', 'put(k4,v4)', 'by ', 'Thread-1')\n",
    "('put call', 'k4')\n",
    "('starting user thread', 'Thread-2')\n",
    " Committing...\n",
    "('database after commit =', {'k2': 'v2', 'k4': 'v4'})`"
   ]
  },
  {
   "cell_type": "markdown",
   "metadata": {},
   "source": [
    "## 2.5 Implementation `Imp_1` (Distributed)\n"
   ]
  },
  {
   "cell_type": "markdown",
   "metadata": {},
   "source": [
    "To run `Imp_1` run `python 2PC/user.py -num_threads <num_threads> -op_names <op_names>` and make a slight modification to the `User Program` by changing `from Imp_0 import Imp` in *line 3* to `from Imp_1 import Imp` "
   ]
  },
  {
   "cell_type": "markdown",
   "metadata": {},
   "source": [
    "This implementation is *distributed*. We have two distinct locks and stores in this implementation.\n",
    "*class* Imp_1\n",
    "It has three functions: `put(key, value)`, `get(key)`, and `delete(key)`. The class maintains the following variables:\n",
    "* `store_A` (map): Store that holds the key-value pairs from keys values starting with `ASCII` values betweem 32 and 79\n",
    "* `store_B` (map): Store that holds the key-value pairs from keys values starting with `ASCII` values betweem 80 and 126\n",
    "* `db_lock_A` (lock): lock that protects the database A \n",
    "* `db_lock_B` (lock): lock that protects the database B \n"
   ]
  },
  {
   "cell_type": "code",
   "execution_count": null,
   "metadata": {},
   "outputs": [],
   "source": [
    "from threading import Lock\n",
    "\n",
    "class Imp:\n",
    "    \n",
    "    def __init__(self):\n",
    "        self.store_A = dict()\n",
    "        self.store_B = dict()\n",
    "        self.db_lock_A = Lock()\n",
    "        self.db_lock_B = Lock()\n",
    "\n",
    "    def put(self, key, val):\n",
    "        if(chr(ord(key[0])) < 80):\n",
    "            self.db_lock_A.acquire()\n",
    "            self.store_A[key] = val\n",
    "            print(\"put call in Database A\", key)\n",
    "            self.db_lock_A.release()\n",
    "        else:\n",
    "            self.db_lock_B.acquire()\n",
    "            self.store_B[key] = val\n",
    "            print(\"put call in Database B\", key)\n",
    "            self.db_lock_B.release()\n",
    "        \n",
    "        \n",
    "    def get(self,key):\n",
    "        if(chr(ord(key[0])) < 80):\n",
    "            self.db_lock_A.acquire()\n",
    "            try:\n",
    "                rval = self.store_A[key]            \n",
    "            except:\n",
    "                rval = \"ABORT\"\n",
    "                print(key, \" was not found\")\n",
    "            self.db_lock_A.release()\n",
    "        else:\n",
    "            self.db_lock_B.acquire()\n",
    "            try:\n",
    "                rval = self.store_B[key]            \n",
    "            except:\n",
    "                rval = \"ABORT\"\n",
    "                print(key, \" was not found\")\n",
    "            self.db_lock_B.release()\n",
    "        return rval\n",
    "    \n",
    "    def delete(self,key):\n",
    "        if(chr(ord(key[0])) < 80):\n",
    "            self.db_lock_A.acquire()\n",
    "            print(\"delete call\", key)\n",
    "            try:\n",
    "                self.store_A.pop(key)\n",
    "            except:\n",
    "                print(key, \" was not found\")\n",
    "            self.db_lock_A.release()\n",
    "        else:\n",
    "            self.db_lock_B.acquire()\n",
    "            print(\"delete call\", key)\n",
    "            try:\n",
    "                self.store_B.pop(key)\n",
    "            except:\n",
    "                print(key, \" was not found\")\n",
    "            self.db_lock_B.release()\n",
    "\n",
    "        \n",
    "        \n",
    "if __name__ == '__main__':\n",
    "    imp = Imp()"
   ]
  },
  {
   "cell_type": "markdown",
   "metadata": {},
   "source": [
    "**Sample output on `python 2PC/user.py -num_threads 2 -op_names \"put(k1,v1) put(k2,v2) delete(k1) put(k3,v3) delete(k3) get(k1) put(k2,v2) put(B4,v4)\"`:**"
   ]
  },
  {
   "cell_type": "markdown",
   "metadata": {},
   "source": [
    "`starting 2PC.user\n",
    "('2PC args:', Namespace(num_threads=2, op_names='put(k1,v1) put(k2,v2) delete(k1) put(k3,v3) delete(k3) get(k1) put(k2,v2) put(B4,v4)'))\n",
    "('starting user thread', 'Thread-1')\n",
    "('Operation being performed is ', 'put(k1,v1)', 'by ', 'Thread-1')\n",
    "('put call in Database B', 'k1')\n",
    "('Operation being performed is ', 'put(k2,v2)', 'by ', 'Thread-1')\n",
    "('put call in Database B', 'k2')\n",
    "('Operation being performed is ', 'delete(k1)', 'by ', 'Thread-1')\n",
    " ('starting user thread', 'Thread-2')\n",
    "('Operation being performed is ', 'put(k3,v3)', 'by ', 'Thread-2')\n",
    "('put call in Database B', 'k3')\n",
    "(('delete call', 'k1')\n",
    "('Operation being performed is ', 'get(k1)', 'by ', 'Thread-1')\n",
    "('k1', ' was not found')\n",
    "('Operation being performed is ', 'put(k2,v2)', 'by ', 'Thread-1')\n",
    "('put call in Database B', 'k2')\n",
    "('Operation being performed is ', 'put(B4,v4)', 'by ', 'Thread-1')\n",
    "('put call in Database A', 'B4')\n",
    "('Thread-1', ' is Committing...')\n",
    "('Database A after commit by', 'Thread-1', {'B4': 'v4'})\n",
    "('Database B after commit by', 'Thread-1', {'k3': 'v3', 'k2': 'v2'})\n",
    "'Operation being performed is ', 'delete(k3)', 'by ', 'Thread-2')\n",
    "('delete call', 'k3')\n",
    "('Thread-2', ' is Committing...')\n",
    "('Database A after commit by', 'Thread-2', {'B4': 'v4'})\n",
    "('Database B after commit by', 'Thread-2', {'k2': 'v2'})`"
   ]
  },
  {
   "cell_type": "code",
   "execution_count": null,
   "metadata": {},
   "outputs": [],
   "source": []
  },
  {
   "cell_type": "code",
   "execution_count": null,
   "metadata": {},
   "outputs": [],
   "source": []
  }
 ],
 "metadata": {
  "kernelspec": {
   "display_name": "Python 3",
   "language": "python",
   "name": "python3"
  },
  "language_info": {
   "codemirror_mode": {
    "name": "ipython",
    "version": 3
   },
   "file_extension": ".py",
   "mimetype": "text/x-python",
   "name": "python",
   "nbconvert_exporter": "python",
   "pygments_lexer": "ipython3",
   "version": "3.8.5"
  }
 },
 "nbformat": 4,
 "nbformat_minor": 4
}
