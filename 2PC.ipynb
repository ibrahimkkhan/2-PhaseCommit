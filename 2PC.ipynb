{
 "cells": [
  {
   "cell_type": "markdown",
   "metadata": {},
   "source": [
    "# 2-Phase Commit"
   ]
  },
  {
   "cell_type": "markdown",
   "metadata": {},
   "source": [
    " <img src=\"Desktop/2PC.png\" width= \"70%\" >\n",
    "    "
   ]
  },
  {
   "cell_type": "markdown",
   "metadata": {},
   "source": [
    "## 2.1 Overview\n",
    "\n",
    "A **transaction** can be defined as a very small unit or task of a program which cannot be further divided in to smaller sub-tasks. A transaction must maintain Atomicity, Consistency, Isolation, and Durability − commonly known as **ACID** properties − in order to ensure accuracy, completeness, and data integrity. **Distributed transactions** are transactions in which two or more network hosts are involved. We will refer to these hosts as *COHORTS*.\n",
    "\n",
    "The **Two-phase commit protocol (2PC)** is a distributed algorithm that coordinates all the *COHORTS* that participate in a distributed transaction on whether to **commit** or **abort** the transaction. The protocol is fault-tolerant i.e, the protocol achieves its goal even in cases of temporary system failure.\n"
   ]
  },
  {
   "cell_type": "markdown",
   "metadata": {},
   "source": [
    "## 2.2 Intended Service Informally Stated"
   ]
  },
  {
   "cell_type": "markdown",
   "metadata": {},
   "source": [
    "The 2 Phase Commit service has four functions that can be called by local users in the environment\n",
    "* ``start_process()``: ``COORDINATOR`` object attempts to prepare all the transaction's participating cohorts\n",
    "  * returns ``COMMIT`` or ``ABORT``\n",
    "\n",
    "\n",
    "* ``commit():`` ``COMMIT`` to the database \n",
    "  * can only be called if ``start_process()`` returns ``COMMIT``\n",
    "  * returns ``true`` or ``false`` on completion\n",
    "\n",
    "\n",
    "* ``abort():`` Undo all the work done in the database\n",
    "  * can only be called if ``start_process()`` returns ``ABORT``\n",
    "  * returns ``true`` or ``false`` on completion\n",
    "  \n",
    "  \n",
    "* ``end_process()``: ``COHORTS`` object attempts to end the process\n",
    "  * can only be called if ``put()`` or ``rollback()`` returns ``true``\n",
    "  * returns ``COMPLETE`` or ``ERROR`` on execution\n",
    "  "
   ]
  },
  {
   "cell_type": "markdown",
   "metadata": {},
   "source": [
    "## 2.3 Implementation"
   ]
  },
  {
   "cell_type": "markdown",
   "metadata": {},
   "source": [
    "#### Global variables\n",
    "\n",
    "``Thread``will simulate transcation-like behavior\n",
    "\n",
    "``NUM_COHORTS`` will define the number of *COHORTS* (>=2)\n"
   ]
  },
  {
   "cell_type": "markdown",
   "metadata": {},
   "source": [
    "#### The two classes for this service are defined as follows:\n",
    "\n",
    "``COORDINATOR:`` \n",
    "* ``__init__()`` \n",
    "  * initializes the ``COORDINATOR`` object\n",
    "  \n",
    "  \n",
    "* ``start_voting_process()`` \n",
    "  * begins with the voting phase of the process\n",
    "\n",
    "\n",
    "* ``request_prepare_COHORTS()``\n",
    "  * command ``COHORTS`` to start preparing for transaction\n",
    "  * returns ``YES/COMMIT`` or ``NO/ABORT`` in case of a local failure  \n",
    "\n",
    "\n",
    "* ``request_commit_COHORTS()`` \n",
    "  * command ``COHORTS`` to begin the ``COMMIT`` process\n",
    "  * returns ``SUCCESS`` or ``FAILURE`` in case of a local failure\n",
    "    \n",
    "    \n",
    "* ``request_rollback()`` \n",
    "  * command ``COHORTS`` to begin the ``ABORT`` process\n",
    "  * returns ``SUCCESS`` or ``FAILURE`` in case of a local failure\n"
   ]
  },
  {
   "cell_type": "markdown",
   "metadata": {},
   "source": [
    "``COHORT:`` \n",
    "* ``__init__()`` \n",
    "  * initializes the ``COHORT`` object\n",
    "\n",
    "\n",
    "* ``prepare()``\n",
    "  * prepare *COHORT* object to start preparing for the transaction\n",
    "  * return ``YES/COMMIT`` or ``NO/ABORT``\n",
    "\n",
    "\n",
    "* ``commit_COHORT()`` \n",
    "  * commit *COHORT* object\n",
    "  * return ``SUCCESS`` or ``FAILURE``\n",
    "\n",
    "\n",
    "* ``rollback_COHORT()`` \n",
    "  * rollback each commit to its previous state i.e, undo the work for the *COHORT*\n",
    "  * return ``SUCCESS`` or ``FAILURE``\n",
    "  \n",
    "  \n",
    "* ``end_self`` \n",
    "  * end the Thread running this *COHORT*\n",
    "\n"
   ]
  },
  {
   "cell_type": "raw",
   "metadata": {},
   "source": [
    "from threading import get_ident\n",
    "\n",
    "class Service():\n",
    "    def __init__(self):\n",
    "        Thread.__init__(self)\n",
    "        for i in NUM_COHORTS\n",
    "            self.COHORTS = COHORTS(i) # initialize COHORTS\n",
    "            \n",
    "        coord = COORDINATOR # coordinator that assists with the service\n",
    "        votes = False\n",
    "    \n",
    "    def start_process(self):\n",
    "        CIC: i in self.COHORTS    # input part\n",
    "        CU:  self.COHORTS(i).prepare()\n",
    "        ROC: all(self.votes == True) # output part\n",
    "        RU:  pass\n",
    "            \n",
    "    def commit(self):\n",
    "        CIC: self.votes == True\n",
    "        CU:  request_commit_cohorts(self.COHORTS)\n",
    "        ROC: all(self.COHORTS.commit() == True) # output part\n",
    "        RU:  pass\n",
    "            \n",
    "    def abort(self):\n",
    "        CIC: self.votes == False\n",
    "        CU:  request_rollback_cohorts(self.COHORTS)\n",
    "        ROC: all(self.COHORTS.rollback() == True) # output part\n",
    "        RU:  pass\n",
    "            \n",
    "    def end_process(self):\n",
    "        CIC: rollback() == True || commit == True\n",
    "        CU:  pass\n",
    "        ROC: pass\n",
    "        RU:  self.COHORTS(i).end()\n",
    "            \n",
    "  "
   ]
  },
  {
   "cell_type": "markdown",
   "metadata": {},
   "source": [
    "The class has four non-init functions: ``start_process()`` , ``commit()`` , ``abort()``  and ``end_process()`` , corresponding to the four functions called by users of the service. The __init__ function defines variables adequate to express when a non-init function can be called and when it can return.\n",
    "\n",
    "Every non-init function has four components: CIC, short for call input condition; CU, short for call update; ROC, short for return output condition; and RU, short for return update.\n"
   ]
  },
  {
   "cell_type": "code",
   "execution_count": null,
   "metadata": {},
   "outputs": [],
   "source": []
  },
  {
   "cell_type": "code",
   "execution_count": null,
   "metadata": {},
   "outputs": [],
   "source": []
  },
  {
   "cell_type": "code",
   "execution_count": null,
   "metadata": {},
   "outputs": [],
   "source": []
  }
 ],
 "metadata": {
  "kernelspec": {
   "display_name": "Python 3",
   "language": "python",
   "name": "python3"
  },
  "language_info": {
   "codemirror_mode": {
    "name": "ipython",
    "version": 3
   },
   "file_extension": ".py",
   "mimetype": "text/x-python",
   "name": "python",
   "nbconvert_exporter": "python",
   "pygments_lexer": "ipython3",
   "version": "3.8.5"
  }
 },
 "nbformat": 4,
 "nbformat_minor": 4
}
